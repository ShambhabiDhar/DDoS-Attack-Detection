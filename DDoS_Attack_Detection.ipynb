{
 "cells": [
  {
   "cell_type": "markdown",
   "id": "288038ae",
   "metadata": {},
   "source": [
    "DDoS Attack Detection System"
   ]
  },
  {
   "cell_type": "code",
   "execution_count": 1,
   "id": "fb17fcb7",
   "metadata": {
    "id": "a7e3dbc0"
   },
   "outputs": [],
   "source": [
    "import pandas as pd\n",
    "import numpy as np\n",
    "\n",
    "import matplotlib.pyplot as plt\n",
    "from matplotlib.pyplot import figure\n",
    "import seaborn as sns\n",
    "\n",
    "from sklearn.metrics import confusion_matrix\n",
    "from sklearn.metrics import accuracy_score\n",
    "from sklearn.metrics import classification_report\n",
    "from sklearn.model_selection import train_test_split\n",
    "from sklearn import metrics\n",
    "from sklearn.preprocessing import StandardScaler\n",
    "from sklearn.metrics import f1_score as f1\n",
    "\n",
    "from sklearn.neighbors import KNeighborsClassifier\n",
    "from sklearn.linear_model import LogisticRegression\n",
    "from sklearn.ensemble import RandomForestClassifier\n",
    "from sklearn.decomposition import PCA\n",
    "from sklearn.mixture import GaussianMixture"
   ]
  },
  {
   "cell_type": "code",
   "execution_count": 2,
   "id": "6847d146",
   "metadata": {
    "id": "8764814e"
   },
   "outputs": [],
   "source": [
    "dt = pd.read_csv('dataset_sdn.csv')"
   ]
  },
  {
   "cell_type": "code",
   "execution_count": 3,
   "id": "06f04a39",
   "metadata": {
    "id": "06f04a39",
    "outputId": "94f7f66b-21f4-4fef-b29a-eaf6b1d47797"
   },
   "outputs": [
    {
     "data": {
      "text/plain": [
       "Index(['dt', 'switch', 'src', 'dst', 'pktcount', 'bytecount', 'dur',\n",
       "       'dur_nsec', 'tot_dur', 'flows', 'packetins', 'pktperflow',\n",
       "       'byteperflow', 'pktrate', 'Pairflow', 'Protocol', 'port_no', 'tx_bytes',\n",
       "       'rx_bytes', 'tx_kbps', 'rx_kbps', 'tot_kbps', 'label'],\n",
       "      dtype='object')"
      ]
     },
     "execution_count": 3,
     "metadata": {},
     "output_type": "execute_result"
    }
   ],
   "source": [
    "dt.columns"
   ]
  },
  {
   "cell_type": "code",
   "execution_count": 4,
   "id": "5153416e",
   "metadata": {
    "id": "5153416e",
    "outputId": "dbd237f6-5fca-4f0a-cd98-6eeef20145a5"
   },
   "outputs": [
    {
     "data": {
      "text/plain": [
       "int64      17\n",
       "object      3\n",
       "float64     3\n",
       "dtype: int64"
      ]
     },
     "execution_count": 4,
     "metadata": {},
     "output_type": "execute_result"
    }
   ],
   "source": [
    "dt.dtypes.value_counts()"
   ]
  },
  {
   "cell_type": "code",
   "execution_count": 5,
   "id": "62729dec",
   "metadata": {
    "id": "62729dec",
    "outputId": "ab97fa36-a5c6-4e75-8e03-b63fb77b437e"
   },
   "outputs": [
    {
     "name": "stdout",
     "output_type": "stream",
     "text": [
      "Number of NUMERIC features: 20 \n",
      "\n",
      "Number of OBJECT features: 3 \n",
      "\n"
     ]
    }
   ],
   "source": [
    "print(f\"Number of NUMERIC features: 20 \\n\")\n",
    "print(f\"Number of OBJECT features: 3 \\n\")\n",
    "# object datatype : string OR mixed;  (Can't be used in Regression)"
   ]
  },
  {
   "cell_type": "code",
   "execution_count": 6,
   "id": "d5429a91",
   "metadata": {
    "id": "d5429a91",
    "outputId": "5947b0a8-4a5b-4528-81f3-bd2845737f95"
   },
   "outputs": [
    {
     "name": "stdout",
     "output_type": "stream",
     "text": [
      "<class 'pandas.core.frame.DataFrame'>\n",
      "RangeIndex: 104345 entries, 0 to 104344\n",
      "Data columns (total 23 columns):\n",
      " #   Column       Non-Null Count   Dtype  \n",
      "---  ------       --------------   -----  \n",
      " 0   dt           104345 non-null  int64  \n",
      " 1   switch       104345 non-null  int64  \n",
      " 2   src          104345 non-null  object \n",
      " 3   dst          104345 non-null  object \n",
      " 4   pktcount     104345 non-null  int64  \n",
      " 5   bytecount    104345 non-null  int64  \n",
      " 6   dur          104345 non-null  int64  \n",
      " 7   dur_nsec     104345 non-null  int64  \n",
      " 8   tot_dur      104345 non-null  float64\n",
      " 9   flows        104345 non-null  int64  \n",
      " 10  packetins    104345 non-null  int64  \n",
      " 11  pktperflow   104345 non-null  int64  \n",
      " 12  byteperflow  104345 non-null  int64  \n",
      " 13  pktrate      104345 non-null  int64  \n",
      " 14  Pairflow     104345 non-null  int64  \n",
      " 15  Protocol     104345 non-null  object \n",
      " 16  port_no      104345 non-null  int64  \n",
      " 17  tx_bytes     104345 non-null  int64  \n",
      " 18  rx_bytes     104345 non-null  int64  \n",
      " 19  tx_kbps      104345 non-null  int64  \n",
      " 20  rx_kbps      103839 non-null  float64\n",
      " 21  tot_kbps     103839 non-null  float64\n",
      " 22  label        104345 non-null  int64  \n",
      "dtypes: float64(3), int64(17), object(3)\n",
      "memory usage: 18.3+ MB\n"
     ]
    }
   ],
   "source": [
    "dt.info()\n",
    "#total number of data points= 10435; #attributes = 23 (inlcuding 'label')"
   ]
  },
  {
   "cell_type": "code",
   "execution_count": 7,
   "id": "0634579b",
   "metadata": {
    "id": "0634579b",
    "outputId": "26c334d9-29a0-41de-e27e-711f6e097a5b"
   },
   "outputs": [
    {
     "data": {
      "text/plain": [
       "array([0, 1], dtype=int64)"
      ]
     },
     "execution_count": 7,
     "metadata": {},
     "output_type": "execute_result"
    }
   ],
   "source": [
    "dt.label.unique()\n",
    "# binary label =, ie. '0' or '1'"
   ]
  },
  {
   "cell_type": "markdown",
   "id": "b636c47e",
   "metadata": {
    "id": "b636c47e"
   },
   "source": [
    "Label :       MALICIOUS : 1; BENIGN : 0"
   ]
  },
  {
   "cell_type": "code",
   "execution_count": 8,
   "id": "37feac6e",
   "metadata": {
    "id": "37feac6e",
    "outputId": "0109c260-e198-4555-f9c4-e845400adb95"
   },
   "outputs": [
    {
     "data": {
      "text/plain": [
       "0    63561\n",
       "1    40784\n",
       "Name: label, dtype: int64"
      ]
     },
     "execution_count": 8,
     "metadata": {},
     "output_type": "execute_result"
    }
   ],
   "source": [
    "dt.label.value_counts()"
   ]
  },
  {
   "cell_type": "code",
   "execution_count": 9,
   "id": "e7e35c75",
   "metadata": {
    "id": "e7e35c75"
   },
   "outputs": [],
   "source": [
    "# # label_dict = dict(dt.label.value_counts())\n",
    "# x = dt.label\n",
    "# sns.countplot(arg: x)\n",
    "# # label_dict"
   ]
  },
  {
   "cell_type": "code",
   "execution_count": 10,
   "id": "425bbbb6",
   "metadata": {
    "id": "425bbbb6",
    "outputId": "4b116c39-f1af-46f6-e84a-5897b434d939"
   },
   "outputs": [
    {
     "data": {
      "image/png": "[encoded data removed]",
      "text/plain": [
       "<Figure size 432x288 with 1 Axes>"
      ]
     },
     "metadata": {},
     "output_type": "display_data"
    }
   ],
   "source": [
    "labels = [\"Benign\", \"Malicious\"] \n",
    "counts = [dt.label.value_counts()[0], dt.label.value_counts()[1]]\n",
    "# plt.figure(figsize = (13,8))\n",
    "plt.pie(counts, labels= labels, radius=1.1, colors=['red', 'purple'], labeldistance=1.1, autopct='%1.1f%%')\n",
    "plt.legend()\n",
    "plt.title(\"Percentage distribution of the data\")\n",
    "plt.show()"
   ]
  },
  {
   "cell_type": "code",
   "execution_count": 11,
   "id": "e3f95651",
   "metadata": {
    "id": "e3f95651",
    "outputId": "27dae78b-ef39-45e3-ec7f-aecc857dfa5f",
    "scrolled": true
   },
   "outputs": [
    {
     "data": {
      "image/png": "[encoded data removed]",
      "text/plain": [
       "<Figure size 432x288 with 1 Axes>"
      ]
     },
     "metadata": {
      "needs_background": "light"
     },
     "output_type": "display_data"
    }
   ],
   "source": [
    "dt.isna().sum().plot.bar(color='black')\n",
    "plt.title(\"MISSING VALUES\")\n",
    "plt.xlabel(\"Attribute\")\n",
    "plt.ylabel(\"Number of missing values\")\n",
    "plt.show()"
   ]
  },
  {
   "cell_type": "code",
   "execution_count": 12,
   "id": "2cf09ed6",
   "metadata": {
    "id": "2cf09ed6",
    "outputId": "159c517f-6d10-4912-d4e4-986075cd2ab4"
   },
   "outputs": [
    {
     "data": {
      "image/png": "[encoded data removed]",
      "text/plain": [
       "<Figure size 432x288 with 1 Axes>"
      ]
     },
     "metadata": {
      "needs_background": "light"
     },
     "output_type": "display_data"
    }
   ],
   "source": [
    "# dt.src.value_counts().plot.barh(color='red')\n",
    "plt.barh(dt.src.value_counts().keys(),list(dt.src.value_counts()), color='red')\n",
    "plt.title(\"NUMBER OF REQUESTS FROM EACH IP\")\n",
    "plt.xlabel(\"Number of requests\")\n",
    "plt.ylabel(\"Source IPs\")\n",
    "plt.show()"
   ]
  },
  {
   "cell_type": "code",
   "execution_count": 13,
   "id": "840cbb2c",
   "metadata": {
    "id": "840cbb2c",
    "outputId": "662336d5-8f58-42fe-ee1b-411aa357de4e",
    "scrolled": true
   },
   "outputs": [
    {
     "data": {
      "image/png": "[encoded data removed]",
      "text/plain": [
       "<Figure size 432x288 with 1 Axes>"
      ]
     },
     "metadata": {
      "needs_background": "light"
     },
     "output_type": "display_data"
    }
   ],
   "source": [
    "plt.barh(dt[dt['label']==1].src.value_counts().keys(), list(dt[dt['label']==1].src.value_counts()), color='purple')\n",
    "plt.title(\"NUMBER OF MALICIOUS REQUESTS FROM EACH IP\")\n",
    "plt.xlabel(\"Number of requests\")\n",
    "plt.ylabel(\"Source IPs\")\n",
    "plt.show()"
   ]
  },
  {
   "cell_type": "code",
   "execution_count": 14,
   "id": "e7f0aa37",
   "metadata": {
    "id": "e7f0aa37",
    "outputId": "0b20aa3d-4ece-43df-aa20-41fc21d7d810",
    "scrolled": true
   },
   "outputs": [
    {
     "data": {
      "image/png": "[encoded data removed]",
      "text/plain": [
       "<Figure size 432x288 with 1 Axes>"
      ]
     },
     "metadata": {
      "needs_background": "light"
     },
     "output_type": "display_data"
    }
   ],
   "source": [
    "plt.barh(dt.src.value_counts().keys(),list(dt.src.value_counts()), color='red')\n",
    "plt.barh(dt[dt['label']==1].src.value_counts().keys(), list(dt[dt['label']==1].src.value_counts()), color='purple')\n",
    "plt.legend(['TOTAL', \"MALICIOUS\"])\n",
    "plt.title(\"FRACTION OF MALICIOUS REQUESTS FROM EACH IP\")\n",
    "plt.xlabel(\"Number of requests\")\n",
    "plt.ylabel(\"Source IPs\")\n",
    "plt.show()"
   ]
  },
  {
   "cell_type": "code",
   "execution_count": 36,
   "id": "98f44ee3",
   "metadata": {
    "id": "98f44ee3",
    "outputId": "20bf09a4-8f48-44c1-fb2f-eb3fe31f44d9",
    "scrolled": true
   },
   "outputs": [
    {
     "data": {
      "image/png": "[encoded data removed]",
      "text/plain": [
       "<Figure size 432x288 with 1 Axes>"
      ]
     },
     "metadata": {
      "needs_background": "light"
     },
     "output_type": "display_data"
    }
   ],
   "source": [
    "plt.bar(dt.Protocol.value_counts().keys(), list(dt.Protocol.value_counts()), color='red')\n",
    "plt.bar(dt[dt['label']==1].Protocol.value_counts().keys(), list(dt[dt['label']==1].Protocol.value_counts()), color='purple')\n",
    "plt.title(\"FRACTION OF MALICIOUS REQUESTS FROM EACH PROTOCOL\")\n",
    "plt.show()"
   ]
  },
  {
   "cell_type": "code",
   "execution_count": 37,
   "id": "68645527",
   "metadata": {
    "id": "68645527",
    "outputId": "00cc1e38-f16d-4dfb-c943-c769c0e38c8d"
   },
   "outputs": [
    {
     "data": {
      "image/png": "[encoded data removed]",
      "text/plain": [
       "<Figure size 432x288 with 1 Axes>"
      ]
     },
     "metadata": {
      "needs_background": "light"
     },
     "output_type": "display_data"
    }
   ],
   "source": [
    "plt.hist(dt.dur, bins=20, color='PURPLE')\n",
    "plt.title('HISTOGRAM OF DURATION ATTRIBUTE')\n",
    "plt.show()"
   ]
  },
  {
   "cell_type": "code",
   "execution_count": 17,
   "id": "cb4365e0",
   "metadata": {
    "id": "cb4365e0"
   },
   "outputs": [],
   "source": [
    "dt_0 = dt.copy()\n",
    "dt_0.dropna(inplace=True)\n",
    "#dropping the NULL values\n",
    "dumb_dt = pd.get_dummies(dt_0)\n",
    "st = StandardScaler()\n",
    "st.fit(dumb_dt)\n",
    "dt_1 = st.transform(dumb_dt)\n",
    "dt_1 = pd.DataFrame(dt_1)\n",
    "dt_1.columns = dumb_dt.columns\n",
    "dt_1.drop(['label'], axis=1, inplace=True)\n",
    "X_train, X_test, Y_train, Y_test = train_test_split(dt_1, dt_0.label, random_state=42, test_size=0.3)"
   ]
  },
  {
   "cell_type": "code",
   "execution_count": 18,
   "id": "a2967dfd",
   "metadata": {
    "id": "a2967dfd",
    "outputId": "fe306840-a28b-4e46-c16a-f532b4dc3252",
    "scrolled": true
   },
   "outputs": [
    {
     "name": "stdout",
     "output_type": "stream",
     "text": [
      "Accuracy score using newton-cg solver: 0.841165896250642\n",
      "\n",
      "Accuracy score using lbfgs solver: 0.8411016949152542\n",
      "\n",
      "Accuracy score using liblinear solver: 0.8411337955829481\n",
      "\n",
      "Accuracy score using sag solver: 0.841165896250642\n",
      "\n",
      "Accuracy score using saga solver: 0.841165896250642\n",
      "\n",
      "Accuracy score of Logistic Regression using the best solver 'newton-cg': 0.841165896250642\n",
      "\n",
      "CLASSIFICATION REPORT:\n",
      "               precision    recall  f1-score   support\n",
      "\n",
      "           0       0.89      0.85      0.87     19872\n",
      "           1       0.76      0.82      0.79     11280\n",
      "\n",
      "    accuracy                           0.84     31152\n",
      "   macro avg       0.83      0.84      0.83     31152\n",
      "weighted avg       0.84      0.84      0.84     31152\n",
      "\n"
     ]
    }
   ],
   "source": [
    "solvers = ['newton-cg', 'lbfgs', 'liblinear', 'sag', 'saga']\n",
    "acc_l = []\n",
    "f1_l = []\n",
    "for solver in solvers:\n",
    "    lr = LogisticRegression(C=0.03, solver=solver).fit(X_train,Y_train)\n",
    "    pred_lr = lr.predict(X_test)\n",
    "    acc_lr = accuracy_score(Y_test, pred_lr)\n",
    "    print(f\"Accuracy score using {solver} solver: {acc_lr}\\n\")\n",
    "    acc_l.append(acc_lr)\n",
    "    f1_l.append(f1(Y_test, pred_lr))\n",
    "best_solver = solvers[acc_l.index(max(acc_l))]\n",
    "lr = LogisticRegression(C=0.03, solver=best_solver).fit(X_train, Y_train)\n",
    "pred_lr = lr.predict(X_test)\n",
    "acc_lr = accuracy_score(Y_test, pred_lr)\n",
    "print(f\"Accuracy score of Logistic Regression using the best solver '{best_solver}': {acc_lr}\\n\")\n",
    "print(f\"CLASSIFICATION REPORT:\\n {classification_report(pred_lr, Y_test)}\")\n",
    "maxacc_lr = max(acc_l)\n",
    "maxf1_lr  = max(f1_l)\n"
   ]
  },
  {
   "cell_type": "code",
   "execution_count": 28,
   "id": "f365687e",
   "metadata": {
    "id": "f365687e",
    "outputId": "6cb3d73b-eac2-4708-e4c3-0590d6a2b006",
    "scrolled": true
   },
   "outputs": [
    {
     "name": "stdout",
     "output_type": "stream",
     "text": [
      "Maximum accurcay score for KNN for K=5: 0.980771700051361\n",
      "\n",
      "CLASSIFICATION REPORT:\n",
      "              precision    recall  f1-score   support\n",
      "\n",
      "           0       0.98      0.97      0.98     19155\n",
      "           1       0.96      0.97      0.96     11997\n",
      "\n",
      "    accuracy                           0.97     31152\n",
      "   macro avg       0.97      0.97      0.97     31152\n",
      "weighted avg       0.97      0.97      0.97     31152\n",
      "\n"
     ]
    }
   ],
   "source": [
    "K=[5,7,13,19]\n",
    "acc_l=[]\n",
    "f1l=[]\n",
    "for i in K:\n",
    "    knn= KNeighborsClassifier(n_neighbors=i)\n",
    "    knn.fit(X_train, Y_train)\n",
    "    pred_knn=knn.predict(X_test)\n",
    "    acc_l.append(accuracy_score(Y_test,pred_knn))\n",
    "    f1l.append(f1(Y_test,pred_knn))\n",
    "print(f\"Maximum accurcay score for KNN for K={K[acc_l.index(max(acc_l))]}: {max(acc_l)}\\n\")\n",
    "print(f\"CLASSIFICATION REPORT:\\n{classification_report(pred_knn, Y_test)}\")\n",
    "maxacc_knn = max(acc_l)\n",
    "maxf1_knn = max(f1l)"
   ]
  },
  {
   "cell_type": "code",
   "execution_count": 29,
   "id": "1c548254",
   "metadata": {
    "id": "1c548254",
    "outputId": "5c687751-f88f-433d-b775-93170902e012"
   },
   "outputs": [
    {
     "name": "stdout",
     "output_type": "stream",
     "text": [
      "Accuracy score for Random Forest: 0.984527478171546\n",
      "\n",
      "CLASSIFICATION REPORT:\n",
      "              precision    recall  f1-score   support\n",
      "\n",
      "           0       0.99      0.99      0.99     18962\n",
      "           1       0.98      0.98      0.98     12190\n",
      "\n",
      "    accuracy                           0.98     31152\n",
      "   macro avg       0.98      0.98      0.98     31152\n",
      "weighted avg       0.98      0.98      0.98     31152\n",
      "\n"
     ]
    }
   ],
   "source": [
    "RF = RandomForestClassifier(n_jobs=-1, n_estimators=500, min_samples_split=10, criterion='gini',max_features='auto',oob_score=True,random_state=1)\n",
    "RF.fit(X_train, Y_train)\n",
    "pred_rf = RF.predict(X_test)\n",
    "acc_rf = accuracy_score(Y_test, pred_rf)\n",
    "print(f\"Accuracy score for Random Forest: {acc_rf}\\n\")\n",
    "print(f\"CLASSIFICATION REPORT:\\n{classification_report(pred_rf, Y_test)}\")\n",
    "maxacc_rf = acc_rf\n",
    "maxf1_rf = f1(Y_test, pred_rf)"
   ]
  },
  {
   "cell_type": "code",
   "execution_count": 30,
   "id": "e7cf6848",
   "metadata": {
    "id": "e7cf6848",
    "outputId": "944ada90-b06d-4bc2-b954-be18d963dedc",
    "scrolled": false
   },
   "outputs": [
    {
     "name": "stdout",
     "output_type": "stream",
     "text": [
      "Maximum Accuracy score using PCA for 3 components = 0.7341101694915254\n"
     ]
    }
   ],
   "source": [
    "dt_2 = dt_1.copy()\n",
    "comp = [2, 5, 10, 13, 15, 19, 21]\n",
    "max_acc = []\n",
    "for i in comp:\n",
    "    pca = PCA(n_components=i)\n",
    "    pca.fit(dt_2)\n",
    "    pca_dt = pca.transform(dt_2)\n",
    "    X_train, X_test, Y_train, Y_test = train_test_split(pca_dt, dumb_dt.label, random_state=42, test_size=0.3)\n",
    "    solvers = ['newton-cg', 'lbfgs', 'liblinear', 'sag', 'saga']\n",
    "    results_lr = []\n",
    "    acc_l = []\n",
    "    for solver in solvers:\n",
    "        lr = LogisticRegression(C=0.03, solver=solver).fit(X_train,Y_train)\n",
    "        pred_lr = lr.predict(X_test)\n",
    "        acc_lr = accuracy_score(Y_test, pred_lr)\n",
    "        acc_l.append(acc_lr)\n",
    "    max_acc.append(max(acc_l))\n",
    "print(f\"Maximum Accuracy score using PCA for 3 components = {max(max_acc)}\") "
   ]
  },
  {
   "cell_type": "markdown",
   "id": "c30374ff",
   "metadata": {
    "id": "c30374ff"
   },
   "source": [
    "PCA REDUCED DATA IS GIVING VERY LOW ACCURACY. CLASSIFICATION WITHOUT DATA REDUCTION IS BETTER"
   ]
  },
  {
   "cell_type": "code",
   "execution_count": 33,
   "id": "4d053174",
   "metadata": {
    "id": "4d053174",
    "outputId": "e2fefa69-1329-4aaf-fffc-cf837b1a8ba7"
   },
   "outputs": [
    {
     "data": {
      "image/png": "[encoded data removed]",
      "text/plain": [
       "<Figure size 432x288 with 1 Axes>"
      ]
     },
     "metadata": {
      "needs_background": "light"
     },
     "output_type": "display_data"
    }
   ],
   "source": [
    "maxacc = [maxacc_lr,  maxacc_knn, maxacc_rf]\n",
    "plt.bar(['Logistic Regression', 'KNN', 'Random Forest'], maxacc)\n",
    "plt.title(\"COMPARISION OF ACCURACY SCORES\")\n",
    "plt.ylabel(\"Accuracy Score\")\n",
    "plt.show()"
   ]
  },
  {
   "cell_type": "code",
   "execution_count": 34,
   "id": "b00d120d",
   "metadata": {
    "id": "b00d120d",
    "outputId": "b0433c92-61f3-4604-e234-5f6497f27398"
   },
   "outputs": [
    {
     "data": {
      "image/png": "[encoded data removed]",
      "text/plain": [
       "<Figure size 432x288 with 1 Axes>"
      ]
     },
     "metadata": {
      "needs_background": "light"
     },
     "output_type": "display_data"
    }
   ],
   "source": [
    "maxf1 = [maxf1_lr, maxf1_knn, maxf1_rf]\n",
    "plt.bar(['Logistic Regression', 'KNN', 'Random Forest'], maxf1)\n",
    "plt.title(\"COMPARISION OF F1-SCORES\")\n",
    "plt.ylabel(\"F1-Score\")\n",
    "plt.show()"
   ]
  },
  {
   "cell_type": "markdown",
   "id": "b05e98fe",
   "metadata": {
    "id": "b05e98fe"
   },
   "source": [
    "RANDOM FOREST IS THE BEST ALGORITHM AS IT HAS THE MAXIMUM ACCURACY SCORE."
   ]
  },
  {
   "cell_type": "code",
   "execution_count": null,
   "id": "b9d884ad",
   "metadata": {
    "id": "b9d884ad"
   },
   "outputs": [],
   "source": []
  }
 ],
 "metadata": {
  "colab": {
   "provenance": []
  },
  "kernelspec": {
   "display_name": "Python 3 (ipykernel)",
   "language": "python",
   "name": "python3"
  },
  "language_info": {
   "codemirror_mode": {
    "name": "ipython",
    "version": 3
   },
   "file_extension": ".py",
   "mimetype": "text/x-python",
   "name": "python",
   "nbconvert_exporter": "python",
   "pygments_lexer": "ipython3",
   "version": "3.9.7"
  }
 },
 "nbformat": 4,
 "nbformat_minor": 5
}
